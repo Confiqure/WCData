{
 "cells": [
  {
   "cell_type": "markdown",
   "metadata": {},
   "source": [
    "# Data\n",
    "\n",
    "## Setup"
   ]
  },
  {
   "cell_type": "code",
   "execution_count": 15,
   "metadata": {},
   "outputs": [],
   "source": [
    "# Import necessary libraries\n",
    "import os\n",
    "import pandas as pd\n",
    "\n",
    "# Data source abstraction\n",
    "class DataSource:\n",
    "    def __init__(self, name, source_name, url, file_name):\n",
    "        self.name = name\n",
    "        self.source_name = source_name\n",
    "        self.url = url\n",
    "        self.file_name = file_name\n",
    "\n",
    "    def fetch_data(self):\n",
    "        if not os.path.exists(self.file_name):\n",
    "            raise FileNotFoundError(f\"Data file not found. Please fetch the data sheet from: {self.url}\")\n",
    "        return self._read_data()\n",
    "\n",
    "    def _read_data(self):\n",
    "        raise NotImplementedError(\"Please implement the _read_data method\")\n"
   ]
  },
  {
   "cell_type": "code",
   "execution_count": 16,
   "metadata": {},
   "outputs": [],
   "source": [
    "# Initialize directory paths\n",
    "if not os.path.exists('clean'):\n",
    "    os.mkdir('clean')\n"
   ]
  },
  {
   "cell_type": "markdown",
   "metadata": {},
   "source": [
    "## Data Sources\n",
    "\n",
    "For each source:\n",
    "\n",
    "1. define it\n",
    "2. initialize it\n",
    "3. fetch data\n",
    "4. save clean data"
   ]
  },
  {
   "cell_type": "markdown",
   "metadata": {},
   "source": [
    "### S&P 500 Earnings Yield\n",
    "\n",
    "Source: <https://www.multpl.com/s-p-500-earnings-yield>"
   ]
  },
  {
   "cell_type": "code",
   "execution_count": 17,
   "metadata": {},
   "outputs": [],
   "source": [
    "class SP500EarningsYield(DataSource):\n",
    "    def _read_data(self):\n",
    "        data = pd.read_csv(self.file_name)\n",
    "        try:\n",
    "            # Convert 'Date' column to datetime and extract the year\n",
    "            data['Date'] = pd.to_datetime(data['Date'])\n",
    "            data['Year'] = data['Date'].dt.year\n",
    "            data['Month'] = data['Date'].dt.month\n",
    "\n",
    "            # Convert 'Earnings Yield' from percentage string to float\n",
    "            data['Earnings Yield'] = data['Earnings Yield'].str.rstrip('%').astype('float') / 100.0\n",
    "        except ValueError as e:\n",
    "            raise ValueError(f\"An error occurred while processing the data: {e}\")\n",
    "        return data\n",
    "\n",
    "# Initialize data sources\n",
    "sp500_earnings_yield = SP500EarningsYield(\"S&P 500 Earnings Yield\", \"Multipl.com 2023\", \"https://www.multpl.com/s-p-500-earnings-yield\", \"raw/sp500_earnings_yield.csv\")\n",
    "\n",
    "# Fetch and clean data\n",
    "sp500_data = sp500_earnings_yield.fetch_data()\n",
    "\n",
    "# Save cleaned data\n",
    "sp500_data.to_csv('clean/sp500_earnings_yield.csv', index=False)\n"
   ]
  },
  {
   "cell_type": "markdown",
   "metadata": {},
   "source": [
    "### US 10-Year Treasury Yield\n",
    "\n",
    "Source: <https://www.multpl.com/10-year-treasury-rate>"
   ]
  },
  {
   "cell_type": "code",
   "execution_count": 18,
   "metadata": {},
   "outputs": [],
   "source": [
    "class US10YTreasuryYield(DataSource):\n",
    "    def _read_data(self):\n",
    "        data = pd.read_csv(self.file_name)\n",
    "        try:\n",
    "            # Convert 'Date' column to datetime and extract the year\n",
    "            data['Date'] = pd.to_datetime(data['Date'])\n",
    "            data['Year'] = data['Date'].dt.year\n",
    "            data['Month'] = data['Date'].dt.month\n",
    "\n",
    "            # Convert 'Treasury Yield' from percentage string to float\n",
    "            data['Treasury Yield'] = data['Treasury Yield'].str.rstrip('%').astype('float') / 100.0\n",
    "        except ValueError as e:\n",
    "            raise ValueError(f\"An error occurred while processing the data: {e}\")\n",
    "        return data\n",
    "\n",
    "# Initialize data sources\n",
    "us10y_yield = US10YTreasuryYield(\"US Treasury 10-Year Yield\", \"Multipl.com 2023\", \"https://www.multpl.com/10-year-treasury-rate\", \"raw/us10y_yield.csv\")\n",
    "\n",
    "# Fetch and clean data\n",
    "us10y_data = us10y_yield.fetch_data()\n",
    "\n",
    "# Save cleaned data\n",
    "us10y_data.to_csv('clean/us10y_yield.csv', index=False)\n"
   ]
  }
 ],
 "metadata": {
  "kernelspec": {
   "display_name": "Python 3",
   "language": "python",
   "name": "python3"
  },
  "language_info": {
   "codemirror_mode": {
    "name": "ipython",
    "version": 3
   },
   "file_extension": ".py",
   "mimetype": "text/x-python",
   "name": "python",
   "nbconvert_exporter": "python",
   "pygments_lexer": "ipython3",
   "version": "3.8.10"
  }
 },
 "nbformat": 4,
 "nbformat_minor": 2
}
